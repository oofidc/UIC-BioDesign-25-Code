{
 "cells": [
  {
   "cell_type": "code",
   "execution_count": 2,
   "id": "e2503801",
   "metadata": {},
   "outputs": [],
   "source": [
    "import numpy as np\n",
    "import matplotlib\n",
    "matplotlib.use('TkAgg')  # or 'Qt5Agg'"
   ]
  },
  {
   "cell_type": "code",
   "execution_count": 3,
   "id": "66e8cd86",
   "metadata": {},
   "outputs": [],
   "source": [
    "from matplotlib import animation\n",
    "\n",
    "import matplotlib.pyplot as plt\n",
    "\n",
    "# Ensure matplotlib is imported and plt is available for use"
   ]
  },
  {
   "cell_type": "code",
   "execution_count": 15,
   "id": "e09d539d",
   "metadata": {},
   "outputs": [],
   "source": [
    "import math"
   ]
  },
  {
   "cell_type": "code",
   "execution_count": 23,
   "id": "b9bad752",
   "metadata": {},
   "outputs": [],
   "source": [
    "import numpy as np\n",
    "import matplotlib.pyplot as plt\n",
    "from matplotlib.animation import FuncAnimation\n",
    "\n",
    "# Original sparse time and roughness\n",
    "original_time = [0,15,16,17,18,19,20,21,28,29,30]\n",
    "original_roughness = [1.0,1.3,1.6,1.2,2.3,2.7,3.5,6.4,3.6,2.2,1.6]\n",
    "\n",
    "\n",
    "# 1. Fill in full second-by-second timeline\n",
    "full_time = list(range(original_time[0], original_time[-1] + 1))\n",
    "\n",
    "# 2. Interpolate roughness to match full time list\n",
    "interpolated_roughness = np.interp(full_time, original_time, original_roughness)\n",
    "\n",
    "# 3. Create matching voltage (placeholder – you’ll replace this)\n",
    "voltage = [int(1023 / (1 + math.exp(-4 * (r - 3)))) for r in interpolated_roughness]\n",
    "\n",
    "# 4. Set up the figure and dual axes\n",
    "fig, ax1 = plt.subplots(figsize=(10, 6))\n",
    "ax2 = ax1.twinx()\n",
    "\n",
    "ax1.set_xlim(full_time[0], full_time[-1])\n",
    "ax1.set_ylim(0, 1023)\n",
    "ax2.set_ylim(0, max(interpolated_roughness)*1.1)\n",
    "ax1.set_xlabel('Time (seconds)')\n",
    "ax1.set_ylabel('Voltage (0-1023)', color='tab:blue')\n",
    "ax2.set_ylabel('Roughness', color='tab:red')\n",
    "ax1.tick_params(axis='y', labelcolor='tab:blue')\n",
    "ax2.tick_params(axis='y', labelcolor='tab:red')\n",
    "plt.title('Voltage and Roughness Over Time')\n",
    "\n",
    "voltage_line, = ax1.plot([], [], 'b-', lw=2, label='Voltage[0-1023]')\n",
    "roughness_line, = ax2.plot([], [], 'r-', lw=2, label='Roughness[1-10]')\n",
    "current_v_point, = ax1.plot([], [], 'bo', ms=8)\n",
    "current_r_point, = ax2.plot([], [], 'ro', ms=8)\n",
    "ax1.legend([voltage_line, roughness_line], ['Voltage', 'Roughness'], loc='upper left')\n",
    "\n",
    "def init():\n",
    "    voltage_line.set_data([], [])\n",
    "    roughness_line.set_data([], [])\n",
    "    current_v_point.set_data([], [])\n",
    "    current_r_point.set_data([], [])\n",
    "    return voltage_line, roughness_line, current_v_point, current_r_point\n",
    "\n",
    "def update(frame):\n",
    "    voltage_line.set_data(full_time[:frame+1], voltage[:frame+1])\n",
    "    roughness_line.set_data(full_time[:frame+1], interpolated_roughness[:frame+1])\n",
    "    current_v_point.set_data([full_time[frame]], [voltage[frame]])\n",
    "    current_r_point.set_data([full_time[frame]], [interpolated_roughness[frame]])\n",
    "    return voltage_line, roughness_line, current_v_point, current_r_point\n",
    "\n",
    "ani = FuncAnimation(\n",
    "    fig,\n",
    "    update,\n",
    "    frames=len(full_time),\n",
    "    init_func=init,\n",
    "    blit=True,\n",
    "    interval=1000,  # 1 second per frame|\n",
    "    repeat=False\n",
    ")\n",
    "\n",
    "plt.tight_layout()\n",
    "plt.show()\n",
    "\n",
    "ani.save('data_anim.gif', writer='pillow', fps=1)"
   ]
  },
  {
   "cell_type": "code",
   "execution_count": null,
   "id": "d2ed5600",
   "metadata": {},
   "outputs": [],
   "source": []
  }
 ],
 "metadata": {
  "kernelspec": {
   "display_name": "Python 3",
   "language": "python",
   "name": "python3"
  },
  "language_info": {
   "codemirror_mode": {
    "name": "ipython",
    "version": 3
   },
   "file_extension": ".py",
   "mimetype": "text/x-python",
   "name": "python",
   "nbconvert_exporter": "python",
   "pygments_lexer": "ipython3",
   "version": "3.12.4"
  }
 },
 "nbformat": 4,
 "nbformat_minor": 5
}
