{
  "cells": [
    {
      "cell_type": "code",
      "execution_count": 8,
      "metadata": {
        "colab": {
          "base_uri": "https://localhost:8080/"
        },
        "id": "AoJOhtHYCVSE",
        "outputId": "b5b8fcb1-065e-4e7b-d50e-cd4998d02255"
      },
      "outputs": [
        {
          "name": "stdout",
          "output_type": "stream",
          "text": [
            "Requirement already satisfied: scikit-image in c:\\users\\ndian\\appdata\\local\\programs\\python\\python312\\lib\\site-packages (0.25.2)\n",
            "Requirement already satisfied: numpy>=1.24 in c:\\users\\ndian\\appdata\\local\\programs\\python\\python312\\lib\\site-packages (from scikit-image) (1.26.4)\n",
            "Requirement already satisfied: scipy>=1.11.4 in c:\\users\\ndian\\appdata\\local\\programs\\python\\python312\\lib\\site-packages (from scikit-image) (1.14.0)\n",
            "Requirement already satisfied: networkx>=3.0 in c:\\users\\ndian\\appdata\\local\\programs\\python\\python312\\lib\\site-packages (from scikit-image) (3.4.2)\n",
            "Requirement already satisfied: pillow>=10.1 in c:\\users\\ndian\\appdata\\local\\programs\\python\\python312\\lib\\site-packages (from scikit-image) (11.0.0)\n",
            "Requirement already satisfied: imageio!=2.35.0,>=2.33 in c:\\users\\ndian\\appdata\\local\\programs\\python\\python312\\lib\\site-packages (from scikit-image) (2.37.0)\n",
            "Requirement already satisfied: tifffile>=2022.8.12 in c:\\users\\ndian\\appdata\\local\\programs\\python\\python312\\lib\\site-packages (from scikit-image) (2025.2.18)\n",
            "Requirement already satisfied: packaging>=21 in c:\\users\\ndian\\appdata\\roaming\\python\\python312\\site-packages (from scikit-image) (24.1)\n",
            "Requirement already satisfied: lazy-loader>=0.4 in c:\\users\\ndian\\appdata\\local\\programs\\python\\python312\\lib\\site-packages (from scikit-image) (0.4)\n"
          ]
        },
        {
          "name": "stderr",
          "output_type": "stream",
          "text": [
            "\n",
            "[notice] A new release of pip is available: 24.2 -> 25.0.1\n",
            "[notice] To update, run: python.exe -m pip install --upgrade pip\n"
          ]
        }
      ],
      "source": [
        "!python -m pip install scikit-image;\n",
        "\n",
        "\n",
        "\n"
      ]
    },
    {
      "cell_type": "code",
      "execution_count": 9,
      "metadata": {},
      "outputs": [
        {
          "name": "stdout",
          "output_type": "stream",
          "text": [
            "Requirement already satisfied: numpy in c:\\users\\ndian\\appdata\\local\\programs\\python\\python312\\lib\\site-packages (1.26.4)\n"
          ]
        },
        {
          "name": "stderr",
          "output_type": "stream",
          "text": [
            "ERROR: Could not find a version that satisfies the requirement as (from versions: none)\n",
            "\n",
            "[notice] A new release of pip is available: 24.2 -> 25.0.1\n",
            "[notice] To update, run: python.exe -m pip install --upgrade pip\n",
            "ERROR: No matching distribution found for as\n"
          ]
        }
      ],
      "source": [
        "!python -m pip install numpy as np;\n"
      ]
    },
    {
      "cell_type": "code",
      "execution_count": 11,
      "metadata": {
        "colab": {
          "base_uri": "https://localhost:8080/"
        },
        "id": "EnNrb_NTC0Xl",
        "outputId": "3dab94ec-1a4e-4a8e-bff8-47fef1057b02"
      },
      "outputs": [
        {
          "name": "stdout",
          "output_type": "stream",
          "text": [
            "An error occurred: [Errno 22] Invalid argument: 'C:\\\\Users\\\\ndian\\\\Side-Projects\\\\UIC_BIODESIGN\\\\https:\\\\i.ibb.co\\\\G4dG8s3K\\\\IMG-20250301-172740046-HDR.jpg'\n"
          ]
        }
      ],
      "source": [
        "\n",
        "from skimage.feature import graycomatrix, graycoprops\n",
        "import numpy as np\n",
        "from PIL import Image\n",
        "\n",
        "def calculate_glcm_contrast(image_path):\n",
        "  \"\"\"Calculates the contrast feature of the GLCM for a given image.\n",
        "\n",
        "  Args:\n",
        "    image_path: The path to the image file.\n",
        "\n",
        "  Returns:\n",
        "    The contrast value from the GLCM, or None if an error occurs.\n",
        "  \"\"\"\n",
        "  try:\n",
        "    # Open the image using Pillow library & Convert to grayscale\n",
        "    img = Image.open(image_path).convert('L')\n",
        "\n",
        "    # Convert the image to a NumPy array\n",
        "    image_array = np.array(img)\n",
        "\n",
        "    # Calculate the GLCM\n",
        "    glcm = graycomatrix(image_array, distances=[1], angles=[0], levels=256, symmetric=True, normed=True)\n",
        "\n",
        "\n",
        "    contrast = graycoprops(glcm, 'contrast')[0, 0]\n",
        "\n",
        "    return contrast\n",
        "\n",
        "  except FileNotFoundError:\n",
        "    print(f\"Error: Image file not found at {image_path}\")\n",
        "    return None\n",
        "  except Exception as e:\n",
        "    print(f\"An error occurred: {e}\")\n",
        "    return None\n",
        "\n",
        "\n",
        "# Example Usage\n",
        "image_path = 'https://i.ibb.co/G4dG8s3K/IMG-20250301-172740046-HDR.jpg'  # Replace with your image path\n",
        "contrast_value = calculate_glcm_contrast(image_path)\n",
        "\n",
        "if contrast_value is not None:\n",
        "  print(f\"GLCM Contrast: {contrast_value}\")\n"
      ]
    },
    {
      "cell_type": "code",
      "execution_count": 7,
      "metadata": {
        "colab": {
          "base_uri": "https://localhost:8080/"
        },
        "id": "ozOB6vWfEoOW",
        "outputId": "b0979aa2-2d3a-40e0-af06-bf809c89a08d"
      },
      "outputs": [
        {
          "ename": "NameError",
          "evalue": "name 'image_url' is not defined",
          "output_type": "error",
          "traceback": [
            "\u001b[1;31m---------------------------------------------------------------------------\u001b[0m",
            "\u001b[1;31mNameError\u001b[0m                                 Traceback (most recent call last)",
            "Cell \u001b[1;32mIn[7], line 31\u001b[0m\n\u001b[0;32m     27\u001b[0m         \u001b[38;5;28;01mreturn\u001b[39;00m \u001b[38;5;28;01mNone\u001b[39;00m\n\u001b[0;32m     29\u001b[0m \u001b[38;5;66;03m# Example Usage\u001b[39;00m\n\u001b[0;32m     30\u001b[0m \u001b[38;5;66;03m#image_url = 'https://i.ibb.co/G4dG8s3K/IMG-20250301-172740046-HDR.jpg'  # Replace with a valid URL\u001b[39;00m\n\u001b[1;32m---> 31\u001b[0m contrast_value \u001b[38;5;241m=\u001b[39m calculate_glcm_contrast(\u001b[43mimage_url\u001b[49m)\n\u001b[0;32m     33\u001b[0m \u001b[38;5;28;01mif\u001b[39;00m contrast_value \u001b[38;5;129;01mis\u001b[39;00m \u001b[38;5;129;01mnot\u001b[39;00m \u001b[38;5;28;01mNone\u001b[39;00m:\n\u001b[0;32m     34\u001b[0m     \u001b[38;5;28mprint\u001b[39m(\u001b[38;5;124mf\u001b[39m\u001b[38;5;124m\"\u001b[39m\u001b[38;5;124mGLCM Contrast: \u001b[39m\u001b[38;5;132;01m{\u001b[39;00mcontrast_value\u001b[38;5;132;01m}\u001b[39;00m\u001b[38;5;124m\"\u001b[39m)\n",
            "\u001b[1;31mNameError\u001b[0m: name 'image_url' is not defined"
          ]
        }
      ],
      "source": [
        "from skimage.feature import graycomatrix, graycoprops\n",
        "import numpy as np\n",
        "from PIL import Image\n",
        "import requests\n",
        "from io import BytesIO\n",
        "\n",
        "def calculate_glcm_contrast(image_path):\n",
        "    \"\"\"Calculates the contrast feature of the GLCM for a given image (local path or URL).\"\"\"\n",
        "    try:\n",
        "        # Check if the path is a URL\n",
        "        if image_path.startswith(('http://', 'https://')):\n",
        "            # Download the image from the URL\n",
        "            response = requests.get(image_path)\n",
        "            response.raise_for_status()  # Raise error for bad status codes\n",
        "            img = Image.open(BytesIO(response.content)).convert('L')  # Convert to grayscale\n",
        "        else:\n",
        "            # Open local image\n",
        "            img = Image.open(image_path).convert('L')\n",
        "\n",
        "        image_array = np.array(img)\n",
        "        glcm = graycomatrix(image_array, distances=[1], angles=[0], levels=256, symmetric=True, normed=True)\n",
        "        contrast = graycoprops(glcm, 'contrast')[0, 0]\n",
        "        return contrast\n",
        "\n",
        "    except Exception as e:\n",
        "        print(f\"Error: {e}\")\n",
        "        return None\n",
        "\n",
        "# Example Usage\n",
        "#image_url = 'https://i.ibb.co/G4dG8s3K/IMG-20250301-172740046-HDR.jpg'  # Replace with a valid URL\n",
        "contrast_value = calculate_glcm_contrast(image_url)\n",
        "\n",
        "if contrast_value is not None:\n",
        "    print(f\"GLCM Contrast: {contrast_value}\")\n"
      ]
    },
    {
      "cell_type": "code",
      "execution_count": null,
      "metadata": {
        "colab": {
          "base_uri": "https://localhost:8080/"
        },
        "id": "46C526qqFHo-",
        "outputId": "824ab39f-eef3-4ce9-d144-4147ad701189"
      },
      "outputs": [
        {
          "name": "stdout",
          "output_type": "stream",
          "text": [
            "GLCM Contrast: 180.17513687150839\n"
          ]
        }
      ],
      "source": [
        "# Example Usage\n",
        "image_url = 'https://i.postimg.cc/dVn8QQVx/Whats-App-Image-2025-03-01-at-5-41-25-PM.jpg'  # Replace with a valid URL\n",
        "contrast_value = calculate_glcm_contrast(image_url)\n",
        "\n",
        "if contrast_value is not None:\n",
        "    print(f\"GLCM Contrast: {contrast_value}\")"
      ]
    },
    {
      "cell_type": "code",
      "execution_count": 2,
      "metadata": {
        "id": "pJhSP9SYFzAf"
      },
      "outputs": [
        {
          "name": "stderr",
          "output_type": "stream",
          "text": [
            "\n",
            "[notice] A new release of pip is available: 24.2 -> 25.0.1\n",
            "[notice] To update, run: python.exe -m pip install --upgrade pip\n"
          ]
        },
        {
          "name": "stdout",
          "output_type": "stream",
          "text": [
            "Requirement already satisfied: numpy in c:\\users\\ndian\\appdata\\local\\programs\\python\\python312\\lib\\site-packages (1.26.4)\n"
          ]
        },
        {
          "data": {
            "text/plain": [
              "array([[ 1,  1,  1,  1,  1],\n",
              "       [ 1,  1, 11,  5,  1]], dtype=int64)"
            ]
          },
          "execution_count": 2,
          "metadata": {},
          "output_type": "execute_result"
        }
      ],
      "source": [
        "!python -m pip install numpy\n",
        "import numpy as np\n",
        "\n",
        "np.digitize([[2,3,4,6,7],[3,5,82,34,2]],np.linspace(2,82, 10 + 1))"
      ]
    },
    {
      "cell_type": "code",
      "execution_count": 13,
      "metadata": {},
      "outputs": [
        {
          "data": {
            "text/plain": [
              "array([ 2., 10., 18., 26., 34., 42., 50., 58., 66., 74., 82.])"
            ]
          },
          "execution_count": 13,
          "metadata": {},
          "output_type": "execute_result"
        }
      ],
      "source": [
        "np.linspace(2,82,10+1) #Checking whether linspace is the same as function I wrote"
      ]
    },
    {
      "cell_type": "code",
      "execution_count": 6,
      "metadata": {},
      "outputs": [
        {
          "name": "stdout",
          "output_type": "stream",
          "text": [
            "Requirement already satisfied: opencv-python in c:\\users\\ndian\\appdata\\local\\programs\\python\\python312\\lib\\site-packages (4.11.0.86)\n",
            "Requirement already satisfied: numpy>=1.21.2 in c:\\users\\ndian\\appdata\\local\\programs\\python\\python312\\lib\\site-packages (from opencv-python) (1.26.4)\n"
          ]
        },
        {
          "name": "stderr",
          "output_type": "stream",
          "text": [
            "\n",
            "[notice] A new release of pip is available: 24.2 -> 25.0.1\n",
            "[notice] To update, run: python.exe -m pip install --upgrade pip\n"
          ]
        }
      ],
      "source": [
        "!python -m pip install opencv-python"
      ]
    },
    {
      "cell_type": "code",
      "execution_count": 19,
      "metadata": {},
      "outputs": [
        {
          "name": "stdout",
          "output_type": "stream",
          "text": [
            "[[ 0  0  0  0  0]\n",
            " [ 0  0  9  3  0]\n",
            " [ 0  0  0  0  0]\n",
            " [ 1  8  2  5  7]\n",
            " [ 0  6  0 10 -1]] After digitize #1\n",
            "[[ 0  0  0  0  0]\n",
            " [ 0  9  3  0  0]\n",
            " [ 0  0  0  0  0]\n",
            " [ 8  2  5  7  7]\n",
            " [ 6  0 10 -1 -1]] After digitize #2\n",
            "[[[[5. 5. 3. 5. 5.]\n",
            "   [7. 7. 6. 7. 7.]\n",
            "   [4. 4. 3. 4. 4.]\n",
            "   [3. 3. 3. 3. 3.]\n",
            "   [0. 0. 0. 0. 0.]]\n",
            "\n",
            "  [[0. 0. 0. 0. 0.]\n",
            "   [0. 0. 0. 0. 0.]\n",
            "   [0. 0. 0. 0. 0.]\n",
            "   [0. 0. 0. 0. 0.]\n",
            "   [0. 0. 0. 0. 0.]]\n",
            "\n",
            "  [[0. 0. 0. 0. 0.]\n",
            "   [0. 0. 0. 0. 0.]\n",
            "   [0. 0. 0. 0. 0.]\n",
            "   [0. 0. 0. 0. 0.]\n",
            "   [0. 0. 0. 0. 0.]]\n",
            "\n",
            "  ...\n",
            "\n",
            "  [[0. 0. 0. 0. 0.]\n",
            "   [0. 0. 0. 0. 0.]\n",
            "   [0. 0. 0. 0. 0.]\n",
            "   [0. 0. 0. 0. 0.]\n",
            "   [0. 0. 0. 0. 0.]]\n",
            "\n",
            "  [[0. 0. 0. 0. 0.]\n",
            "   [0. 0. 0. 0. 0.]\n",
            "   [0. 0. 0. 0. 0.]\n",
            "   [0. 0. 0. 0. 0.]\n",
            "   [0. 0. 0. 0. 0.]]\n",
            "\n",
            "  [[4. 2. 2. 0. 0.]\n",
            "   [2. 1. 1. 0. 0.]\n",
            "   [2. 1. 1. 0. 0.]\n",
            "   [0. 0. 0. 0. 0.]\n",
            "   [0. 0. 0. 0. 0.]]]\n",
            "\n",
            "\n",
            " [[[0. 0. 0. 0. 0.]\n",
            "   [0. 0. 0. 0. 0.]\n",
            "   [0. 0. 0. 0. 0.]\n",
            "   [0. 0. 0. 0. 0.]\n",
            "   [0. 0. 0. 0. 0.]]\n",
            "\n",
            "  [[0. 0. 0. 0. 0.]\n",
            "   [0. 0. 0. 0. 0.]\n",
            "   [0. 0. 0. 0. 0.]\n",
            "   [0. 0. 0. 0. 0.]\n",
            "   [0. 0. 0. 0. 0.]]\n",
            "\n",
            "  [[0. 0. 0. 0. 0.]\n",
            "   [0. 0. 0. 0. 0.]\n",
            "   [0. 0. 0. 0. 0.]\n",
            "   [0. 0. 0. 0. 0.]\n",
            "   [0. 0. 0. 0. 0.]]\n",
            "\n",
            "  ...\n",
            "\n",
            "  [[0. 0. 0. 0. 0.]\n",
            "   [0. 0. 0. 0. 0.]\n",
            "   [0. 0. 0. 0. 0.]\n",
            "   [0. 0. 0. 0. 0.]\n",
            "   [0. 0. 0. 0. 0.]]\n",
            "\n",
            "  [[0. 0. 0. 0. 0.]\n",
            "   [0. 0. 0. 0. 0.]\n",
            "   [1. 1. 0. 0. 0.]\n",
            "   [1. 1. 0. 0. 0.]\n",
            "   [2. 2. 0. 0. 0.]]\n",
            "\n",
            "  [[0. 0. 0. 0. 0.]\n",
            "   [0. 0. 0. 0. 0.]\n",
            "   [0. 0. 0. 0. 0.]\n",
            "   [0. 0. 0. 0. 0.]\n",
            "   [0. 0. 0. 0. 0.]]]\n",
            "\n",
            "\n",
            " [[[0. 0. 0. 0. 0.]\n",
            "   [0. 0. 0. 0. 0.]\n",
            "   [0. 0. 0. 0. 0.]\n",
            "   [0. 0. 0. 0. 0.]\n",
            "   [0. 0. 0. 0. 0.]]\n",
            "\n",
            "  [[0. 0. 0. 0. 0.]\n",
            "   [0. 0. 0. 0. 0.]\n",
            "   [0. 0. 0. 0. 0.]\n",
            "   [0. 0. 0. 0. 0.]\n",
            "   [0. 0. 0. 0. 0.]]\n",
            "\n",
            "  [[0. 0. 0. 0. 0.]\n",
            "   [0. 0. 0. 0. 0.]\n",
            "   [0. 0. 0. 0. 0.]\n",
            "   [0. 0. 0. 0. 0.]\n",
            "   [0. 0. 0. 0. 0.]]\n",
            "\n",
            "  ...\n",
            "\n",
            "  [[0. 0. 0. 0. 0.]\n",
            "   [0. 0. 0. 0. 0.]\n",
            "   [0. 0. 0. 0. 0.]\n",
            "   [0. 0. 0. 0. 0.]\n",
            "   [0. 0. 0. 0. 0.]]\n",
            "\n",
            "  [[0. 0. 0. 0. 0.]\n",
            "   [0. 0. 0. 0. 0.]\n",
            "   [0. 0. 0. 0. 0.]\n",
            "   [0. 0. 0. 0. 0.]\n",
            "   [0. 0. 0. 0. 0.]]\n",
            "\n",
            "  [[0. 0. 0. 0. 0.]\n",
            "   [0. 0. 0. 0. 0.]\n",
            "   [0. 0. 0. 0. 0.]\n",
            "   [0. 0. 0. 0. 0.]\n",
            "   [0. 0. 0. 0. 0.]]]\n",
            "\n",
            "\n",
            " ...\n",
            "\n",
            "\n",
            " [[[0. 0. 0. 0. 0.]\n",
            "   [0. 0. 0. 0. 0.]\n",
            "   [0. 0. 0. 0. 0.]\n",
            "   [0. 0. 0. 0. 0.]\n",
            "   [0. 0. 0. 0. 0.]]\n",
            "\n",
            "  [[0. 0. 0. 0. 0.]\n",
            "   [0. 0. 0. 0. 0.]\n",
            "   [0. 0. 0. 0. 0.]\n",
            "   [0. 0. 0. 0. 0.]\n",
            "   [0. 0. 0. 0. 0.]]\n",
            "\n",
            "  [[0. 0. 0. 0. 0.]\n",
            "   [0. 0. 0. 0. 0.]\n",
            "   [0. 0. 0. 0. 0.]\n",
            "   [0. 0. 0. 0. 0.]\n",
            "   [0. 0. 0. 0. 0.]]\n",
            "\n",
            "  ...\n",
            "\n",
            "  [[0. 0. 0. 0. 0.]\n",
            "   [0. 0. 0. 0. 0.]\n",
            "   [0. 0. 0. 1. 1.]\n",
            "   [0. 0. 0. 1. 1.]\n",
            "   [0. 0. 0. 2. 2.]]\n",
            "\n",
            "  [[0. 0. 0. 0. 0.]\n",
            "   [0. 0. 0. 0. 0.]\n",
            "   [0. 0. 0. 0. 0.]\n",
            "   [0. 0. 0. 0. 0.]\n",
            "   [0. 0. 0. 0. 0.]]\n",
            "\n",
            "  [[0. 0. 0. 0. 0.]\n",
            "   [0. 0. 0. 0. 0.]\n",
            "   [0. 0. 0. 0. 0.]\n",
            "   [0. 0. 0. 0. 0.]\n",
            "   [0. 0. 0. 0. 0.]]]\n",
            "\n",
            "\n",
            " [[[0. 0. 0. 0. 0.]\n",
            "   [0. 0. 0. 0. 0.]\n",
            "   [0. 0. 0. 0. 0.]\n",
            "   [0. 0. 0. 0. 0.]\n",
            "   [0. 0. 0. 0. 0.]]\n",
            "\n",
            "  [[0. 0. 0. 0. 0.]\n",
            "   [0. 0. 0. 0. 0.]\n",
            "   [0. 0. 0. 0. 0.]\n",
            "   [0. 0. 0. 0. 0.]\n",
            "   [0. 0. 0. 0. 0.]]\n",
            "\n",
            "  [[0. 0. 0. 0. 0.]\n",
            "   [0. 0. 0. 0. 0.]\n",
            "   [2. 1. 1. 0. 0.]\n",
            "   [2. 1. 1. 0. 0.]\n",
            "   [4. 2. 2. 0. 0.]]\n",
            "\n",
            "  ...\n",
            "\n",
            "  [[0. 0. 0. 0. 0.]\n",
            "   [0. 0. 0. 0. 0.]\n",
            "   [0. 0. 0. 0. 0.]\n",
            "   [0. 0. 0. 0. 0.]\n",
            "   [0. 0. 0. 0. 0.]]\n",
            "\n",
            "  [[0. 0. 0. 0. 0.]\n",
            "   [0. 0. 0. 0. 0.]\n",
            "   [0. 0. 0. 0. 0.]\n",
            "   [0. 0. 0. 0. 0.]\n",
            "   [0. 0. 0. 0. 0.]]\n",
            "\n",
            "  [[0. 0. 0. 0. 0.]\n",
            "   [0. 0. 0. 0. 0.]\n",
            "   [0. 0. 0. 0. 0.]\n",
            "   [0. 0. 0. 0. 0.]\n",
            "   [0. 0. 0. 0. 0.]]]\n",
            "\n",
            "\n",
            " [[[0. 0. 0. 0. 0.]\n",
            "   [0. 0. 0. 0. 0.]\n",
            "   [0. 0. 0. 0. 0.]\n",
            "   [0. 0. 0. 0. 0.]\n",
            "   [0. 0. 0. 0. 0.]]\n",
            "\n",
            "  [[0. 0. 0. 0. 0.]\n",
            "   [0. 0. 0. 0. 0.]\n",
            "   [0. 0. 0. 0. 0.]\n",
            "   [0. 0. 0. 0. 0.]\n",
            "   [0. 0. 0. 0. 0.]]\n",
            "\n",
            "  [[0. 0. 0. 0. 0.]\n",
            "   [0. 0. 0. 0. 0.]\n",
            "   [0. 0. 0. 0. 0.]\n",
            "   [0. 0. 0. 0. 0.]\n",
            "   [0. 0. 0. 0. 0.]]\n",
            "\n",
            "  ...\n",
            "\n",
            "  [[0. 0. 0. 0. 0.]\n",
            "   [0. 0. 0. 0. 0.]\n",
            "   [0. 0. 0. 0. 0.]\n",
            "   [0. 0. 0. 0. 0.]\n",
            "   [0. 0. 0. 0. 0.]]\n",
            "\n",
            "  [[0. 0. 0. 0. 0.]\n",
            "   [0. 0. 0. 0. 0.]\n",
            "   [0. 0. 0. 0. 0.]\n",
            "   [0. 0. 0. 0. 0.]\n",
            "   [0. 0. 0. 0. 0.]]\n",
            "\n",
            "  [[0. 0. 0. 0. 0.]\n",
            "   [0. 0. 0. 0. 0.]\n",
            "   [0. 0. 0. 0. 0.]\n",
            "   [0. 0. 0. 0. 0.]\n",
            "   [0. 0. 0. 0. 0.]]]]\n"
          ]
        }
      ],
      "source": [
        "import cv2\n",
        "import numpy as np\n",
        "def fast_glcm(img, vmin=0, vmax=255, nbit=8, kernel_size=5):\n",
        "    mi, ma = vmin, vmax\n",
        "    ks = kernel_size\n",
        "    h,w = img.shape\n",
        "\n",
        "    # digitize\n",
        "    bins = np.linspace(mi, ma+1, nbit+1)\n",
        "    gl1 = np.digitize(img, bins) - 1\n",
        "    print(f\"{gl1} After digitize #1\")\n",
        "    gl2 = np.append(gl1[:,1:], gl1[:,-1:], axis=1)\n",
        "\n",
        "    print(f\"{gl2} After digitize #2\")\n",
        "    # make glcm\n",
        "    glcm = np.zeros((nbit, nbit, h, w), dtype=np.uint8)\n",
        "    for i in range(nbit):\n",
        "        for j in range(nbit):\n",
        "            mask = ((gl1==i) & (gl2==j))\n",
        "            glcm[i,j, mask] = 1\n",
        "\n",
        "    kernel = np.ones((ks, ks), dtype=np.uint8)\n",
        "    for i in range(nbit):\n",
        "        for j in range(nbit):\n",
        "            glcm[i,j] = cv2.filter2D(glcm[i,j], -1, kernel)\n",
        "\n",
        "    glcm = glcm.astype(np.float32)\n",
        "    return glcm\n",
        "\n",
        "print(fast_glcm(np.array([[2,3,4,6,7],[3,5,82,34,2], [ 2, 3, 7, 5, 8] ,  [15, 71, 23, 45, 67] , [ 2, 56, 7, 89, 1 ]]), vmin=2, vmax=83, nbit=10, kernel_size=3))"
      ]
    },
    {
      "cell_type": "code",
      "execution_count": 15,
      "metadata": {},
      "outputs": [
        {
          "data": {
            "text/plain": [
              "array([ 2., 20., 38., 56.])"
            ]
          },
          "execution_count": 15,
          "metadata": {},
          "output_type": "execute_result"
        }
      ],
      "source": [
        "np.linspace(2,56,4)\n"
      ]
    },
    {
      "cell_type": "code",
      "execution_count": 4,
      "metadata": {},
      "outputs": [
        {
          "data": {
            "text/plain": [
              "array([ 2.        ,  5.55555556,  9.11111111, 12.66666667, 16.22222222,\n",
              "       19.77777778, 23.33333333, 26.88888889, 30.44444444, 34.        ])"
            ]
          },
          "execution_count": 4,
          "metadata": {},
          "output_type": "execute_result"
        }
      ],
      "source": [
        "np.linspace(2,34,10)"
      ]
    },
    {
      "cell_type": "code",
      "execution_count": 5,
      "metadata": {},
      "outputs": [
        {
          "data": {
            "text/plain": [
              "array([[ 0,  1,  1,  2,  2],\n",
              "       [ 1,  1,  7, 10,  1]], dtype=int64)"
            ]
          },
          "execution_count": 5,
          "metadata": {},
          "output_type": "execute_result"
        }
      ],
      "source": [
        "np.digitize([[1,3,4,6,7],[3,5,24,34,2]],np.linspace(2,34, 10))\n",
        "\n"
      ]
    },
    {
      "cell_type": "code",
      "execution_count": 16,
      "metadata": {},
      "outputs": [
        {
          "name": "stdout",
          "output_type": "stream",
          "text": [
            "GLCM Low Contrast Matrix:\n",
            "An error occurred: 'numpy.ndarray' object has no attribute 'read'\n",
            "None\n",
            "\n",
            "GLCM High Contrast Matrix:\n",
            "An error occurred: 'numpy.ndarray' object has no attribute 'read'\n",
            "None\n"
          ]
        }
      ],
      "source": [
        "import numpy as np\n",
        "\n",
        "# GLCM Low Contrast Matrix (values close to each other)\n",
        "glcm_low_contrast = np.array([\n",
        "    [10, 12, 11, 10, 12, 11, 10, 12, 11, 10, 12, 11, 10, 12, 11],\n",
        "    [12, 11, 10, 12, 11, 10, 12, 11, 10, 12, 11, 10, 12, 11, 10],\n",
        "    [11, 10, 12, 11, 10, 12, 11, 10, 12, 11, 10, 12, 11, 10, 12],\n",
        "    [10, 12, 11, 10, 12, 11, 10, 12, 11, 10, 12, 11, 10, 12, 11],\n",
        "    [12, 11, 10, 12, 11, 10, 12, 11, 10, 12, 11, 10, 12, 11, 10],\n",
        "    [11, 10, 12, 11, 10, 12, 11, 10, 12, 11, 10, 12, 11, 10, 12],\n",
        "    [10, 12, 11, 10, 12, 11, 10, 12, 11, 10, 12, 11, 10, 12, 11],\n",
        "    [12, 11, 10, 12, 11, 10, 12, 11, 10, 12, 11, 10, 12, 11, 10],\n",
        "    [11, 10, 12, 11, 10, 12, 11, 10, 12, 11, 10, 12, 11, 10, 12],\n",
        "    [10, 12, 11, 10, 12, 11, 10, 12, 11, 10, 12, 11, 10, 12, 11],\n",
        "    [12, 11, 10, 12, 11, 10, 12, 11, 10, 12, 11, 10, 12, 11, 10],\n",
        "    [11, 10, 12, 11, 10, 12, 11, 10, 12, 11, 10, 12, 11, 10, 12],\n",
        "    [10, 12, 11, 10, 12, 11, 10, 12, 11, 10, 12, 11, 10, 12, 11],\n",
        "    [12, 11, 10, 12, 11, 10, 12, 11, 10, 12, 11, 10, 12, 11, 10],\n",
        "    [11, 10, 12, 11, 10, 12, 11, 10, 12, 11, 10, 12, 11, 10, 12]\n",
        "])\n",
        "\n",
        "# GLCM High Contrast Matrix (values far apart)\n",
        "glcm_high_contrast = np.array([\n",
        "    [0, 255, 0, 255, 0, 255, 0, 255, 0, 255, 0, 255, 0, 255, 0],\n",
        "    [255, 0, 255, 0, 255, 0, 255, 0, 255, 0, 255, 0, 255, 0, 255],\n",
        "    [0, 255, 0, 255, 0, 255, 0, 255, 0, 255, 0, 255, 0, 255, 0],\n",
        "    [255, 0, 255, 0, 255, 0, 255, 0, 255, 0, 255, 0, 255, 0, 255],\n",
        "    [0, 255, 0, 255, 0, 255, 0, 255, 0, 255, 0, 255, 0, 255, 0],\n",
        "    [255, 0, 255, 0, 255, 0, 255, 0, 255, 0, 255, 0, 255, 0, 255],\n",
        "    [0, 255, 0, 255, 0, 255, 0, 255, 0, 255, 0, 255, 0, 255, 0],\n",
        "    [255, 0, 255, 0, 255, 0, 255, 0, 255, 0, 255, 0, 255, 0, 255],\n",
        "    [0, 255, 0, 255, 0, 255, 0, 255, 0, 255, 0, 255, 0, 255, 0],\n",
        "    [255, 0, 255, 0, 255, 0, 255, 0, 255, 0, 255, 0, 255, 0, 255],\n",
        "    [0, 255, 0, 255, 0, 255, 0, 255, 0, 255, 0, 255, 0, 255, 0],\n",
        "    [255, 0, 255, 0, 255, 0, 255, 0, 255, 0, 255, 0, 255, 0, 255],\n",
        "    [0, 255, 0, 255, 0, 255, 0, 255, 0, 255, 0, 255, 0, 255, 0],\n",
        "    [255, 0, 255, 0, 255, 0, 255, 0, 255, 0, 255, 0, 255, 0, 255],\n",
        "    [0, 255, 0, 255, 0, 255, 0, 255, 0, 255, 0, 255, 0, 255, 0]\n",
        "])\n",
        "\n",
        "# Print the matrices\n",
        "print(\"GLCM Low Contrast Matrix:\")\n",
        "print(calculate_glcm_contrast(glcm_low_contrast))\n",
        "\n",
        "print(\"\\nGLCM High Contrast Matrix:\")\n",
        "print(calculate_glcm_contrast(glcm_high_contrast))"
      ]
    },
    {
      "cell_type": "code",
      "execution_count": 12,
      "metadata": {},
      "outputs": [
        {
          "data": {
            "text/plain": [
              "248.35575384615385"
            ]
          },
          "execution_count": 12,
          "metadata": {},
          "output_type": "execute_result"
        }
      ],
      "source": [
        "calculate_glcm_contrast('Low_Contrast.png')"
      ]
    },
    {
      "cell_type": "code",
      "execution_count": 13,
      "metadata": {},
      "outputs": [
        {
          "data": {
            "text/plain": [
              "3454.4025022935057"
            ]
          },
          "execution_count": 13,
          "metadata": {},
          "output_type": "execute_result"
        }
      ],
      "source": [
        "calculate_glcm_contrast('High_Contrast.png')"
      ]
    },
    {
      "cell_type": "code",
      "execution_count": null,
      "metadata": {},
      "outputs": [],
      "source": []
    }
  ],
  "metadata": {
    "colab": {
      "provenance": []
    },
    "kernelspec": {
      "display_name": "Python 3",
      "name": "python3"
    },
    "language_info": {
      "codemirror_mode": {
        "name": "ipython",
        "version": 3
      },
      "file_extension": ".py",
      "mimetype": "text/x-python",
      "name": "python",
      "nbconvert_exporter": "python",
      "pygments_lexer": "ipython3",
      "version": "3.12.4"
    }
  },
  "nbformat": 4,
  "nbformat_minor": 0
}
