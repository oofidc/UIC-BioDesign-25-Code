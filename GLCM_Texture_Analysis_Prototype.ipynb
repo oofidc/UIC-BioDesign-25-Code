{
  "nbformat": 4,
  "nbformat_minor": 0,
  "metadata": {
    "colab": {
      "provenance": []
    },
    "kernelspec": {
      "name": "python3",
      "display_name": "Python 3"
    },
    "language_info": {
      "name": "python"
    }
  },
  "cells": [
    {
      "cell_type": "code",
      "execution_count": null,
      "metadata": {
        "colab": {
          "base_uri": "https://localhost:8080/"
        },
        "id": "AoJOhtHYCVSE",
        "outputId": "b5b8fcb1-065e-4e7b-d50e-cd4998d02255"
      },
      "outputs": [
        {
          "output_type": "stream",
          "name": "stdout",
          "text": [
            "Requirement already satisfied: scikit-image in /usr/local/lib/python3.11/dist-packages (0.25.2)\n",
            "Requirement already satisfied: numpy>=1.24 in /usr/local/lib/python3.11/dist-packages (from scikit-image) (1.26.4)\n",
            "Requirement already satisfied: scipy>=1.11.4 in /usr/local/lib/python3.11/dist-packages (from scikit-image) (1.13.1)\n",
            "Requirement already satisfied: networkx>=3.0 in /usr/local/lib/python3.11/dist-packages (from scikit-image) (3.4.2)\n",
            "Requirement already satisfied: pillow>=10.1 in /usr/local/lib/python3.11/dist-packages (from scikit-image) (11.1.0)\n",
            "Requirement already satisfied: imageio!=2.35.0,>=2.33 in /usr/local/lib/python3.11/dist-packages (from scikit-image) (2.37.0)\n",
            "Requirement already satisfied: tifffile>=2022.8.12 in /usr/local/lib/python3.11/dist-packages (from scikit-image) (2025.2.18)\n",
            "Requirement already satisfied: packaging>=21 in /usr/local/lib/python3.11/dist-packages (from scikit-image) (24.2)\n",
            "Requirement already satisfied: lazy-loader>=0.4 in /usr/local/lib/python3.11/dist-packages (from scikit-image) (0.4)\n"
          ]
        }
      ],
      "source": [
        "!pip install scikit-image;\n",
        "\n"
      ]
    },
    {
      "cell_type": "code",
      "source": [
        "\n",
        "from skimage.feature import graycomatrix, graycoprops\n",
        "import numpy as np\n",
        "from PIL import Image\n",
        "\n",
        "def calculate_glcm_contrast(image_path):\n",
        "  \"\"\"Calculates the contrast feature of the GLCM for a given image.\n",
        "\n",
        "  Args:\n",
        "    image_path: The path to the image file.\n",
        "\n",
        "  Returns:\n",
        "    The contrast value from the GLCM, or None if an error occurs.\n",
        "  \"\"\"\n",
        "  try:\n",
        "    # Open the image using Pillow library & Convert to grayscale\n",
        "    img = Image.open(image_path).convert('L')\n",
        "\n",
        "    # Convert the image to a NumPy array\n",
        "    image_array = np.array(img)\n",
        "\n",
        "    # Calculate the GLCM\n",
        "    glcm = graycomatrix(image_array, distances=[1], angles=[0], levels=256, symmetric=True, normed=True)\n",
        "\n",
        "\n",
        "    contrast = graycoprops(glcm, 'contrast')[0, 0]\n",
        "\n",
        "    return contrast\n",
        "\n",
        "  except FileNotFoundError:\n",
        "    print(f\"Error: Image file not found at {image_path}\")\n",
        "    return None\n",
        "  except Exception as e:\n",
        "    print(f\"An error occurred: {e}\")\n",
        "    return None\n",
        "\n",
        "\n",
        "# Example Usage\n",
        "image_path = 'https://i.ibb.co/G4dG8s3K/IMG-20250301-172740046-HDR.jpg'  # Replace with your image path\n",
        "contrast_value = calculate_glcm_contrast(image_path)\n",
        "\n",
        "if contrast_value is not None:\n",
        "  print(f\"GLCM Contrast: {contrast_value}\")\n"
      ],
      "metadata": {
        "colab": {
          "base_uri": "https://localhost:8080/"
        },
        "id": "EnNrb_NTC0Xl",
        "outputId": "3dab94ec-1a4e-4a8e-bff8-47fef1057b02"
      },
      "execution_count": null,
      "outputs": [
        {
          "output_type": "stream",
          "name": "stdout",
          "text": [
            "Error: Image file not found at https://i.ibb.co/G4dG8s3K/IMG-20250301-172740046-HDR.jpg\n"
          ]
        }
      ]
    },
    {
      "cell_type": "code",
      "source": [
        "from skimage.feature import graycomatrix, graycoprops\n",
        "import numpy as np\n",
        "from PIL import Image\n",
        "import requests\n",
        "from io import BytesIO\n",
        "\n",
        "def calculate_glcm_contrast(image_path):\n",
        "    \"\"\"Calculates the contrast feature of the GLCM for a given image (local path or URL).\"\"\"\n",
        "    try:\n",
        "        # Check if the path is a URL\n",
        "        if image_path.startswith(('http://', 'https://')):\n",
        "            # Download the image from the URL\n",
        "            response = requests.get(image_path)\n",
        "            response.raise_for_status()  # Raise error for bad status codes\n",
        "            img = Image.open(BytesIO(response.content)).convert('L')  # Convert to grayscale\n",
        "        else:\n",
        "            # Open local image\n",
        "            img = Image.open(image_path).convert('L')\n",
        "\n",
        "        image_array = np.array(img)\n",
        "        glcm = graycomatrix(image_array, distances=[1], angles=[0], levels=256, symmetric=True, normed=True)\n",
        "        contrast = graycoprops(glcm, 'contrast')[0, 0]\n",
        "        return contrast\n",
        "\n",
        "    except Exception as e:\n",
        "        print(f\"Error: {e}\")\n",
        "        return None\n",
        "\n",
        "# Example Usage\n",
        "image_url = 'https://i.ibb.co/G4dG8s3K/IMG-20250301-172740046-HDR.jpg'  # Replace with a valid URL\n",
        "contrast_value = calculate_glcm_contrast(image_url)\n",
        "\n",
        "if contrast_value is not None:\n",
        "    print(f\"GLCM Contrast: {contrast_value}\")\n"
      ],
      "metadata": {
        "colab": {
          "base_uri": "https://localhost:8080/"
        },
        "id": "ozOB6vWfEoOW",
        "outputId": "b0979aa2-2d3a-40e0-af06-bf809c89a08d"
      },
      "execution_count": null,
      "outputs": [
        {
          "output_type": "stream",
          "name": "stdout",
          "text": [
            "GLCM Contrast: 503.67975697281935\n"
          ]
        }
      ]
    },
    {
      "cell_type": "code",
      "source": [
        "# Example Usage\n",
        "image_url = 'https://i.postimg.cc/dVn8QQVx/Whats-App-Image-2025-03-01-at-5-41-25-PM.jpg'  # Replace with a valid URL\n",
        "contrast_value = calculate_glcm_contrast(image_url)\n",
        "\n",
        "if contrast_value is not None:\n",
        "    print(f\"GLCM Contrast: {contrast_value}\")"
      ],
      "metadata": {
        "colab": {
          "base_uri": "https://localhost:8080/"
        },
        "id": "46C526qqFHo-",
        "outputId": "824ab39f-eef3-4ce9-d144-4147ad701189"
      },
      "execution_count": null,
      "outputs": [
        {
          "output_type": "stream",
          "name": "stdout",
          "text": [
            "GLCM Contrast: 180.17513687150839\n"
          ]
        }
      ]
    },
    {
      "cell_type": "code",
      "source": [],
      "metadata": {
        "id": "pJhSP9SYFzAf"
      },
      "execution_count": null,
      "outputs": []
    }
  ]
}