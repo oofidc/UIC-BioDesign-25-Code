{
  "cells": [
    {
      "cell_type": "code",
      "execution_count": 7,
      "metadata": {
        "colab": {
          "base_uri": "https://localhost:8080/"
        },
        "id": "AoJOhtHYCVSE",
        "outputId": "b5b8fcb1-065e-4e7b-d50e-cd4998d02255"
      },
      "outputs": [
        {
          "name": "stdout",
          "output_type": "stream",
          "text": [
            "Collecting scikit-image\n",
            "  Downloading scikit_image-0.25.2-cp312-cp312-win_amd64.whl.metadata (14 kB)\n",
            "Requirement already satisfied: numpy>=1.24 in c:\\users\\ndian\\appdata\\local\\programs\\python\\python312\\lib\\site-packages (from scikit-image) (1.26.4)\n",
            "Requirement already satisfied: scipy>=1.11.4 in c:\\users\\ndian\\appdata\\local\\programs\\python\\python312\\lib\\site-packages (from scikit-image) (1.14.0)\n",
            "Collecting networkx>=3.0 (from scikit-image)\n",
            "  Downloading networkx-3.4.2-py3-none-any.whl.metadata (6.3 kB)\n",
            "Requirement already satisfied: pillow>=10.1 in c:\\users\\ndian\\appdata\\local\\programs\\python\\python312\\lib\\site-packages (from scikit-image) (11.0.0)\n",
            "Collecting imageio!=2.35.0,>=2.33 (from scikit-image)\n",
            "  Downloading imageio-2.37.0-py3-none-any.whl.metadata (5.2 kB)\n",
            "Collecting tifffile>=2022.8.12 (from scikit-image)\n",
            "  Downloading tifffile-2025.2.18-py3-none-any.whl.metadata (31 kB)\n",
            "Requirement already satisfied: packaging>=21 in c:\\users\\ndian\\appdata\\roaming\\python\\python312\\site-packages (from scikit-image) (24.1)\n",
            "Collecting lazy-loader>=0.4 (from scikit-image)\n",
            "  Downloading lazy_loader-0.4-py3-none-any.whl.metadata (7.6 kB)\n",
            "Downloading scikit_image-0.25.2-cp312-cp312-win_amd64.whl (12.9 MB)\n",
            "   ---------------------------------------- 0.0/12.9 MB ? eta -:--:--\n",
            "   - -------------------------------------- 0.5/12.9 MB 4.2 MB/s eta 0:00:03\n",
            "   --- ------------------------------------ 1.0/12.9 MB 2.8 MB/s eta 0:00:05\n",
            "   ---- ----------------------------------- 1.6/12.9 MB 2.6 MB/s eta 0:00:05\n",
            "   ------ --------------------------------- 2.1/12.9 MB 2.6 MB/s eta 0:00:05\n",
            "   -------- ------------------------------- 2.6/12.9 MB 2.5 MB/s eta 0:00:05\n",
            "   --------- ------------------------------ 3.1/12.9 MB 2.5 MB/s eta 0:00:04\n",
            "   ----------- ---------------------------- 3.7/12.9 MB 2.4 MB/s eta 0:00:04\n",
            "   ------------- -------------------------- 4.2/12.9 MB 2.4 MB/s eta 0:00:04\n",
            "   -------------- ------------------------- 4.7/12.9 MB 2.4 MB/s eta 0:00:04\n",
            "   ---------------- ----------------------- 5.2/12.9 MB 2.4 MB/s eta 0:00:04\n",
            "   ----------------- ---------------------- 5.5/12.9 MB 2.4 MB/s eta 0:00:04\n",
            "   ------------------ --------------------- 6.0/12.9 MB 2.4 MB/s eta 0:00:03\n",
            "   -------------------- ------------------- 6.6/12.9 MB 2.4 MB/s eta 0:00:03\n",
            "   --------------------- ------------------ 7.1/12.9 MB 2.4 MB/s eta 0:00:03\n",
            "   ----------------------- ---------------- 7.6/12.9 MB 2.4 MB/s eta 0:00:03\n",
            "   ------------------------- -------------- 8.1/12.9 MB 2.4 MB/s eta 0:00:02\n",
            "   -------------------------- ------------- 8.7/12.9 MB 2.4 MB/s eta 0:00:02\n",
            "   ---------------------------- ----------- 9.2/12.9 MB 2.4 MB/s eta 0:00:02\n",
            "   ------------------------------ --------- 9.7/12.9 MB 2.4 MB/s eta 0:00:02\n",
            "   ------------------------------- -------- 10.2/12.9 MB 2.4 MB/s eta 0:00:02\n",
            "   --------------------------------- ------ 10.7/12.9 MB 2.4 MB/s eta 0:00:01\n",
            "   ---------------------------------- ----- 11.3/12.9 MB 2.4 MB/s eta 0:00:01\n",
            "   ------------------------------------ --- 11.8/12.9 MB 2.4 MB/s eta 0:00:01\n",
            "   -------------------------------------- - 12.3/12.9 MB 2.4 MB/s eta 0:00:01\n",
            "   ---------------------------------------  12.8/12.9 MB 2.4 MB/s eta 0:00:01\n",
            "   ---------------------------------------- 12.9/12.9 MB 2.4 MB/s eta 0:00:00\n",
            "Downloading imageio-2.37.0-py3-none-any.whl (315 kB)\n",
            "Downloading lazy_loader-0.4-py3-none-any.whl (12 kB)\n",
            "Downloading networkx-3.4.2-py3-none-any.whl (1.7 MB)\n",
            "   ---------------------------------------- 0.0/1.7 MB ? eta -:--:--\n",
            "   ------------ --------------------------- 0.5/1.7 MB 2.4 MB/s eta 0:00:01\n",
            "   ------------------------ --------------- 1.0/1.7 MB 2.4 MB/s eta 0:00:01\n",
            "   ------------------------------------ --- 1.6/1.7 MB 2.4 MB/s eta 0:00:01\n",
            "   ---------------------------------------- 1.7/1.7 MB 2.3 MB/s eta 0:00:00\n",
            "Downloading tifffile-2025.2.18-py3-none-any.whl (226 kB)\n",
            "Installing collected packages: tifffile, networkx, lazy-loader, imageio, scikit-image\n",
            "Successfully installed imageio-2.37.0 lazy-loader-0.4 networkx-3.4.2 scikit-image-0.25.2 tifffile-2025.2.18\n"
          ]
        },
        {
          "name": "stderr",
          "output_type": "stream",
          "text": [
            "  WARNING: The scripts lsm2bin.exe, tiff2fsspec.exe, tiffcomment.exe and tifffile.exe are installed in 'c:\\Users\\ndian\\AppData\\Local\\Programs\\Python\\Python312\\Scripts' which is not on PATH.\n",
            "  Consider adding this directory to PATH or, if you prefer to suppress this warning, use --no-warn-script-location.\n",
            "  WARNING: The scripts imageio_download_bin.exe and imageio_remove_bin.exe are installed in 'c:\\Users\\ndian\\AppData\\Local\\Programs\\Python\\Python312\\Scripts' which is not on PATH.\n",
            "  Consider adding this directory to PATH or, if you prefer to suppress this warning, use --no-warn-script-location.\n",
            "\n",
            "[notice] A new release of pip is available: 24.2 -> 25.0.1\n",
            "[notice] To update, run: python.exe -m pip install --upgrade pip\n"
          ]
        }
      ],
      "source": [
        "!python -m pip install scikit-image;\n",
        "\n",
        "\n",
        "\n"
      ]
    },
    {
      "cell_type": "code",
      "execution_count": 8,
      "metadata": {},
      "outputs": [
        {
          "name": "stderr",
          "output_type": "stream",
          "text": [
            "ERROR: Could not find a version that satisfies the requirement as (from versions: none)\n",
            "\n",
            "[notice] A new release of pip is available: 24.2 -> 25.0.1\n",
            "[notice] To update, run: python.exe -m pip install --upgrade pip\n",
            "ERROR: No matching distribution found for as\n"
          ]
        },
        {
          "name": "stdout",
          "output_type": "stream",
          "text": [
            "Requirement already satisfied: numpy in c:\\users\\ndian\\appdata\\local\\programs\\python\\python312\\lib\\site-packages (1.26.4)\n"
          ]
        }
      ],
      "source": [
        "!python -m pip install numpy as np;\n"
      ]
    },
    {
      "cell_type": "code",
      "execution_count": null,
      "metadata": {
        "colab": {
          "base_uri": "https://localhost:8080/"
        },
        "id": "EnNrb_NTC0Xl",
        "outputId": "3dab94ec-1a4e-4a8e-bff8-47fef1057b02"
      },
      "outputs": [
        {
          "name": "stdout",
          "output_type": "stream",
          "text": [
            "Error: Image file not found at https://i.ibb.co/G4dG8s3K/IMG-20250301-172740046-HDR.jpg\n"
          ]
        }
      ],
      "source": [
        "\n",
        "from skimage.feature import graycomatrix, graycoprops\n",
        "import numpy as np\n",
        "from PIL import Image\n",
        "\n",
        "def calculate_glcm_contrast(image_path):\n",
        "  \"\"\"Calculates the contrast feature of the GLCM for a given image.\n",
        "\n",
        "  Args:\n",
        "    image_path: The path to the image file.\n",
        "\n",
        "  Returns:\n",
        "    The contrast value from the GLCM, or None if an error occurs.\n",
        "  \"\"\"\n",
        "  try:\n",
        "    # Open the image using Pillow library & Convert to grayscale\n",
        "    img = Image.open(image_path).convert('L')\n",
        "\n",
        "    # Convert the image to a NumPy array\n",
        "    image_array = np.array(img)\n",
        "\n",
        "    # Calculate the GLCM\n",
        "    glcm = graycomatrix(image_array, distances=[1], angles=[0], levels=256, symmetric=True, normed=True)\n",
        "\n",
        "\n",
        "    contrast = graycoprops(glcm, 'contrast')[0, 0]\n",
        "\n",
        "    return contrast\n",
        "\n",
        "  except FileNotFoundError:\n",
        "    print(f\"Error: Image file not found at {image_path}\")\n",
        "    return None\n",
        "  except Exception as e:\n",
        "    print(f\"An error occurred: {e}\")\n",
        "    return None\n",
        "\n",
        "\n",
        "# Example Usage\n",
        "image_path = 'https://i.ibb.co/G4dG8s3K/IMG-20250301-172740046-HDR.jpg'  # Replace with your image path\n",
        "contrast_value = calculate_glcm_contrast(image_path)\n",
        "\n",
        "if contrast_value is not None:\n",
        "  print(f\"GLCM Contrast: {contrast_value}\")\n"
      ]
    },
    {
      "cell_type": "code",
      "execution_count": null,
      "metadata": {
        "colab": {
          "base_uri": "https://localhost:8080/"
        },
        "id": "ozOB6vWfEoOW",
        "outputId": "b0979aa2-2d3a-40e0-af06-bf809c89a08d"
      },
      "outputs": [
        {
          "name": "stdout",
          "output_type": "stream",
          "text": [
            "GLCM Contrast: 503.67975697281935\n"
          ]
        }
      ],
      "source": [
        "from skimage.feature import graycomatrix, graycoprops\n",
        "import numpy as np\n",
        "from PIL import Image\n",
        "import requests\n",
        "from io import BytesIO\n",
        "\n",
        "def calculate_glcm_contrast(image_path):\n",
        "    \"\"\"Calculates the contrast feature of the GLCM for a given image (local path or URL).\"\"\"\n",
        "    try:\n",
        "        # Check if the path is a URL\n",
        "        if image_path.startswith(('http://', 'https://')):\n",
        "            # Download the image from the URL\n",
        "            response = requests.get(image_path)\n",
        "            response.raise_for_status()  # Raise error for bad status codes\n",
        "            img = Image.open(BytesIO(response.content)).convert('L')  # Convert to grayscale\n",
        "        else:\n",
        "            # Open local image\n",
        "            img = Image.open(image_path).convert('L')\n",
        "\n",
        "        image_array = np.array(img)\n",
        "        glcm = graycomatrix(image_array, distances=[1], angles=[0], levels=256, symmetric=True, normed=True)\n",
        "        contrast = graycoprops(glcm, 'contrast')[0, 0]\n",
        "        return contrast\n",
        "\n",
        "    except Exception as e:\n",
        "        print(f\"Error: {e}\")\n",
        "        return None\n",
        "\n",
        "# Example Usage\n",
        "image_url = 'https://i.ibb.co/G4dG8s3K/IMG-20250301-172740046-HDR.jpg'  # Replace with a valid URL\n",
        "contrast_value = calculate_glcm_contrast(image_url)\n",
        "\n",
        "if contrast_value is not None:\n",
        "    print(f\"GLCM Contrast: {contrast_value}\")\n"
      ]
    },
    {
      "cell_type": "code",
      "execution_count": null,
      "metadata": {
        "colab": {
          "base_uri": "https://localhost:8080/"
        },
        "id": "46C526qqFHo-",
        "outputId": "824ab39f-eef3-4ce9-d144-4147ad701189"
      },
      "outputs": [
        {
          "name": "stdout",
          "output_type": "stream",
          "text": [
            "GLCM Contrast: 180.17513687150839\n"
          ]
        }
      ],
      "source": [
        "# Example Usage\n",
        "image_url = 'https://i.postimg.cc/dVn8QQVx/Whats-App-Image-2025-03-01-at-5-41-25-PM.jpg'  # Replace with a valid URL\n",
        "contrast_value = calculate_glcm_contrast(image_url)\n",
        "\n",
        "if contrast_value is not None:\n",
        "    print(f\"GLCM Contrast: {contrast_value}\")"
      ]
    },
    {
      "cell_type": "code",
      "execution_count": 25,
      "metadata": {
        "id": "pJhSP9SYFzAf"
      },
      "outputs": [
        {
          "name": "stderr",
          "output_type": "stream",
          "text": [
            "\n",
            "[notice] A new release of pip is available: 24.2 -> 25.0.1\n",
            "[notice] To update, run: python.exe -m pip install --upgrade pip\n",
            "ERROR: You must give at least one requirement to install (see \"pip help install\")\n"
          ]
        },
        {
          "data": {
            "text/plain": [
              "array([[ 1,  1,  1,  1,  1],\n",
              "       [ 1,  1, 11,  5,  1]], dtype=int64)"
            ]
          },
          "execution_count": 25,
          "metadata": {},
          "output_type": "execute_result"
        }
      ],
      "source": [
        "!python -m pip install \n",
        "import numpy as np\n",
        "\n",
        "np.digitize([[2,3,4,6,7],[3,5,82,34,2]],np.linspace(2,82, 10 + 1))"
      ]
    },
    {
      "cell_type": "code",
      "execution_count": null,
      "metadata": {},
      "outputs": [],
      "source": []
    }
  ],
  "metadata": {
    "colab": {
      "provenance": []
    },
    "kernelspec": {
      "display_name": "Python 3",
      "name": "python3"
    },
    "language_info": {
      "codemirror_mode": {
        "name": "ipython",
        "version": 3
      },
      "file_extension": ".py",
      "mimetype": "text/x-python",
      "name": "python",
      "nbconvert_exporter": "python",
      "pygments_lexer": "ipython3",
      "version": "3.12.4"
    }
  },
  "nbformat": 4,
  "nbformat_minor": 0
}
